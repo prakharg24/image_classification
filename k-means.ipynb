{
 "cells": [
  {
   "cell_type": "code",
   "execution_count": 93,
   "metadata": {},
   "outputs": [],
   "source": [
    "import numpy as np\n",
    "import os\n",
    "from sklearn.cluster import KMeans\n",
    "import csv\n",
    "import pickle"
   ]
  },
  {
   "cell_type": "code",
   "execution_count": 83,
   "metadata": {},
   "outputs": [],
   "source": [
    "def remnpy(filename):\n",
    "\tfor i in range(len(filename)):\n",
    "\t\tif(filename[i:i+4]==\".npy\"):\n",
    "\t\t\treturn filename[:i]\n",
    "\treturn \"\""
   ]
  },
  {
   "cell_type": "code",
   "execution_count": 123,
   "metadata": {},
   "outputs": [],
   "source": [
    "files = os.listdir(\"train\")\n",
    "inp = np.array([])\n",
    "inp = np.reshape(inp, [-1, 784])\n",
    "inp_tag = []\n",
    "inp_dict = {}\n",
    "ite = 0\n",
    "for file in files:\n",
    "    inp = np.concatenate((inp, np.load(\"train/\" + file)), axis = 0)\n",
    "    inp_dict[ite] = remnpy(file)\n",
    "    for i in range(0, 5000):\n",
    "    \tinp_tag.append(ite)\n",
    "    ite += 1\n",
    "inp_tag = np.array(inp_tag)"
   ]
  },
  {
   "cell_type": "code",
   "execution_count": 146,
   "metadata": {},
   "outputs": [
    {
     "data": {
      "text/plain": [
       "KMeans(algorithm='auto', copy_x=True, init='k-means++', max_iter=50,\n",
       "    n_clusters=20, n_init=10, n_jobs=1, precompute_distances='auto',\n",
       "    random_state=None, tol=0.0001, verbose=0)"
      ]
     },
     "execution_count": 146,
     "metadata": {},
     "output_type": "execute_result"
    }
   ],
   "source": [
    "tlen=20\n",
    "kmeans = KMeans(n_clusters=tlen)\n",
    "kmeans.fit(inp)"
   ]
  },
  {
   "cell_type": "code",
   "execution_count": 147,
   "metadata": {},
   "outputs": [
    {
     "name": "stdout",
     "output_type": "stream",
     "text": [
      "[19  7 10  1  6 17  3 12 15  0  9  1  7 18  2 16 10 11 19  9]\n",
      "0.3463\n"
     ]
    }
   ],
   "source": [
    "max_count = np.zeros([tlen, tlen])\n",
    "\n",
    "for i, ele in enumerate(kmeans.labels_):\n",
    "\tmax_count[ele][inp_tag[i]] += 1\n",
    "\n",
    "wrong = 0\n",
    "total = 0\n",
    "\n",
    "\n",
    "# print(max_count)\n",
    "max_ind = np.argmax(max_count, axis=1)\n",
    "print(max_ind)\n",
    "\n",
    "for i in range(0, tlen):\n",
    "\tfor j in range(0, tlen):\n",
    "\t\tif(j!=max_ind[i]):\n",
    "\t\t\twrong += max_count[i][j]\n",
    "# \t\t\tprint(max_count[i][j])\n",
    "\t\ttotal += max_count[i][j]\n",
    "\n",
    "print((total - wrong + 0.0)/total)"
   ]
  },
  {
   "cell_type": "code",
   "execution_count": 148,
   "metadata": {},
   "outputs": [],
   "source": [
    "test_inp = np.load(\"test/test.npy\")\n",
    "new_arr = kmeans.predict(test_inp)\n",
    "ans_arr = []\n",
    "for ele in new_arr:\n",
    "\tans_arr.append(max_ind[ele])"
   ]
  },
  {
   "cell_type": "code",
   "execution_count": 149,
   "metadata": {},
   "outputs": [],
   "source": [
    "myFile = open('example50.csv', 'w', newline='')\n",
    "with myFile:\n",
    "    fieldnames = ['ID', 'CATEGORY']\n",
    "    writer = csv.DictWriter(myFile, fieldnames=fieldnames)\n",
    "    writer.writeheader()\n",
    "    for i, ele in enumerate(ans_arr):\n",
    "        writer.writerow({'ID' : str(i), 'CATEGORY' : inp_dict[ele]})"
   ]
  },
  {
   "cell_type": "code",
   "execution_count": 150,
   "metadata": {},
   "outputs": [],
   "source": [
    "with open('kmeans50.pkl', 'wb') as f:\n",
    "    pickle.dump(kmeans, f)"
   ]
  },
  {
   "cell_type": "code",
   "execution_count": null,
   "metadata": {},
   "outputs": [],
   "source": []
  }
 ],
 "metadata": {
  "kernelspec": {
   "display_name": "Python 3",
   "language": "python",
   "name": "python3"
  },
  "language_info": {
   "codemirror_mode": {
    "name": "ipython",
    "version": 3
   },
   "file_extension": ".py",
   "mimetype": "text/x-python",
   "name": "python",
   "nbconvert_exporter": "python",
   "pygments_lexer": "ipython3",
   "version": "3.6.4"
  }
 },
 "nbformat": 4,
 "nbformat_minor": 2
}
