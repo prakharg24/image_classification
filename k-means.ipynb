{
 "cells": [
  {
   "cell_type": "code",
   "execution_count": 6,
   "metadata": {},
   "outputs": [],
   "source": [
    "import numpy as np\n",
    "import os"
   ]
  },
  {
   "cell_type": "code",
   "execution_count": 32,
   "metadata": {},
   "outputs": [],
   "source": [
    "def remnpy(filename):\n",
    "\tfor i in range(len(filename)):\n",
    "\t\tif(filename[i:i+4]==\".npy\"):\n",
    "\t\t\treturn filename[:i]\n",
    "\treturn \"\""
   ]
  },
  {
   "cell_type": "code",
   "execution_count": 33,
   "metadata": {},
   "outputs": [],
   "source": [
    "files = os.listdir(\"train\")\n",
    "inp = np.array([])\n",
    "inp = np.reshape(inp, [-1, 784])\n",
    "inp_tag = []\n",
    "inp_dict = {}\n",
    "ite = 0\n",
    "for file in files:\n",
    "    inp = np.concatenate((np.load(\"train/\" + file), inp), axis = 0)\n",
    "    inp_dict[remnpy(file)] = ite\n",
    "    for i in range(0, 5000):\n",
    "    \tinp_tag.append(ite)\n",
    "    ite += 1\n",
    "inp_tag = np.array(inp_tag)"
   ]
  },
  {
   "cell_type": "code",
   "execution_count": 34,
   "metadata": {},
   "outputs": [
    {
     "name": "stdout",
     "output_type": "stream",
     "text": [
      "{'banana': 0, 'bulldozer': 1, 'chair': 2, 'eyeglasses': 3, 'flashlight': 4, 'foot': 5, 'hand': 6, 'harp': 7, 'hat': 8, 'keyboard': 9, 'laptop': 10, 'nose': 11, 'parrot': 12, 'penguin': 13, 'pig': 14, 'skyscraper': 15, 'snowman': 16, 'spider': 17, 'trombone': 18, 'violin': 19}\n",
      "(100000,)\n",
      "[ 0  0  0 ... 19 19 19]\n"
     ]
    }
   ],
   "source": [
    "print(inp_dict)\n",
    "print(np.shape(inp_tag))\n",
    "print(inp_tag)"
   ]
  },
  {
   "cell_type": "code",
   "execution_count": null,
   "metadata": {},
   "outputs": [],
   "source": []
  }
 ],
 "metadata": {
  "kernelspec": {
   "display_name": "Python 3",
   "language": "python",
   "name": "python3"
  },
  "language_info": {
   "codemirror_mode": {
    "name": "ipython",
    "version": 3
   },
   "file_extension": ".py",
   "mimetype": "text/x-python",
   "name": "python",
   "nbconvert_exporter": "python",
   "pygments_lexer": "ipython3",
   "version": "3.6.4"
  }
 },
 "nbformat": 4,
 "nbformat_minor": 2
}
