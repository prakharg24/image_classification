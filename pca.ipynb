{
 "cells": [
  {
   "cell_type": "code",
   "execution_count": 3,
   "metadata": {},
   "outputs": [],
   "source": [
    "import numpy as np\n",
    "import os\n",
    "from sklearn.cluster import KMeans\n",
    "import csv\n",
    "import pickle\n",
    "from sklearn.preprocessing import StandardScaler\n",
    "from sklearn.decomposition import PCA\n",
    "from sklearn import svm"
   ]
  },
  {
   "cell_type": "code",
   "execution_count": 4,
   "metadata": {},
   "outputs": [],
   "source": [
    "def remnpy(filename):\n",
    "\tfor i in range(len(filename)):\n",
    "\t\tif(filename[i:i+4]==\".npy\"):\n",
    "\t\t\treturn filename[:i]\n",
    "\treturn \"\""
   ]
  },
  {
   "cell_type": "code",
   "execution_count": 32,
   "metadata": {},
   "outputs": [],
   "source": [
    "files = os.listdir(\"train\")\n",
    "inp = np.array([])\n",
    "inp = np.reshape(inp, [-1, 784])\n",
    "inp_tag = []\n",
    "inp_dict = {}\n",
    "ite = 0\n",
    "for file in files:\n",
    "    inp = np.concatenate((inp, np.load(\"train/\" + file)), axis = 0)\n",
    "    inp_dict[ite] = remnpy(file)\n",
    "    for i in range(0, 5000):\n",
    "    \tinp_tag.append(ite)\n",
    "    ite += 1\n",
    "inp_tag = np.array(inp_tag)"
   ]
  },
  {
   "cell_type": "code",
   "execution_count": 33,
   "metadata": {},
   "outputs": [],
   "source": [
    "inp = StandardScaler().fit_transform(inp)"
   ]
  },
  {
   "cell_type": "code",
   "execution_count": 34,
   "metadata": {},
   "outputs": [],
   "source": [
    "pca = PCA(n_components=10)\n",
    "inputs_pca = pca.fit_transform(inp)"
   ]
  },
  {
   "cell_type": "code",
   "execution_count": 35,
   "metadata": {},
   "outputs": [
    {
     "name": "stderr",
     "output_type": "stream",
     "text": [
      "c:\\users\\prakhar ganesh\\appdata\\local\\programs\\python\\python36\\lib\\site-packages\\sklearn\\utils\\validation.py:475: DataConversionWarning: Data with input dtype uint8 was converted to float64 by StandardScaler.\n",
      "  warnings.warn(msg, DataConversionWarning)\n"
     ]
    }
   ],
   "source": [
    "test_inp = np.load(\"test/test.npy\")\n",
    "test_inp = StandardScaler().fit_transform(test_inp)\n",
    "test_pca = pca.transform(test_inp)"
   ]
  },
  {
   "cell_type": "code",
   "execution_count": 36,
   "metadata": {},
   "outputs": [
    {
     "name": "stdout",
     "output_type": "stream",
     "text": [
      "(100000,)\n",
      "(100000, 10)\n"
     ]
    }
   ],
   "source": [
    "print(np.shape(inp_tag))\n",
    "print(np.shape(inputs_pca))\n",
    "inp_tag = np.reshape(inp_tag, [-1, 1])\n",
    "new_arr = np.concatenate((inputs_pca, inp_tag), axis=1)\n",
    "np.random.shuffle(new_arr)\n",
    "inputs_pca = new_arr[:, :10]\n",
    "inp_tag = new_arr[:, 10:]\n",
    "inp_tag = np.reshape(inp_tag, [-1])"
   ]
  },
  {
   "cell_type": "code",
   "execution_count": null,
   "metadata": {},
   "outputs": [
    {
     "name": "stdout",
     "output_type": "stream",
     "text": [
      "(100000, 10)\n",
      "7121\n",
      "10000\n",
      "0.7121\n"
     ]
    }
   ],
   "source": [
    "print(np.shape(inputs_pca))\n",
    "avg_ttl = 0.0\n",
    "for i in range(0, 10):\n",
    "    svm_model = svm.SVC(C=1, decision_function_shape='ovo')\n",
    "    svm_model.fit(np.concatenate((inputs_pca[:10000*i], inputs_pca[10000*(i+1):])), np.concatenate((inp_tag[:10000*i], inp_tag[10000*(i+1):])))\n",
    "    all_outs = svm_model.predict(inputs_pca[10000*i:10000*(i+1)])\n",
    "    count = 0\n",
    "    total = 0\n",
    "    for ele, real in zip(all_outs, inp_tag[10000*i:10000*(i+1)]):\n",
    "        if(ele==real):\n",
    "            count += 1\n",
    "        total += 1\n",
    "\n",
    "    avg_ttl += (count + 0.0)/total\n",
    "    \n",
    "print(avg_ttl/10)"
   ]
  },
  {
   "cell_type": "code",
   "execution_count": 18,
   "metadata": {},
   "outputs": [
    {
     "name": "stdout",
     "output_type": "stream",
     "text": [
      "47950\n",
      "100000\n",
      "0.4795\n"
     ]
    }
   ],
   "source": [
    "myFile = open('pca.csv', 'w', newline='')\n",
    "with myFile:\n",
    "    fieldnames = ['ID', 'CATEGORY']\n",
    "    writer = csv.DictWriter(myFile, fieldnames=fieldnames)\n",
    "    writer.writeheader()\n",
    "    for i, ele in enumerate(all_outs):\n",
    "        writer.writerow({'ID' : str(i), 'CATEGORY' : inp_dict[ele]})\n",
    "\n",
    "inp_acc = svm_model.predict(inputs_pca)\n",
    "\n",
    "count = 0\n",
    "total = 0\n",
    "for ele, real in zip(inp_acc, inp_tag):\n",
    "    if(ele==real):\n",
    "        count += 1\n",
    "    total += 1\n",
    "\n",
    "print(count)\n",
    "print(total)\n",
    "print((count + 0.0)/total)"
   ]
  },
  {
   "cell_type": "code",
   "execution_count": null,
   "metadata": {},
   "outputs": [],
   "source": []
  }
 ],
 "metadata": {
  "kernelspec": {
   "display_name": "Python 3",
   "language": "python",
   "name": "python3"
  },
  "language_info": {
   "codemirror_mode": {
    "name": "ipython",
    "version": 3
   },
   "file_extension": ".py",
   "mimetype": "text/x-python",
   "name": "python",
   "nbconvert_exporter": "python",
   "pygments_lexer": "ipython3",
   "version": "3.6.4"
  }
 },
 "nbformat": 4,
 "nbformat_minor": 2
}
