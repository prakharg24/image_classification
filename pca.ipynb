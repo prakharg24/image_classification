{
 "cells": [
  {
   "cell_type": "code",
   "execution_count": 1,
   "metadata": {},
   "outputs": [],
   "source": [
    "import numpy as np\n",
    "import os\n",
    "from sklearn.cluster import KMeans\n",
    "import csv\n",
    "import pickle\n",
    "from sklearn.preprocessing import StandardScaler\n",
    "from sklearn.decomposition import PCA\n",
    "from sklearn import svm"
   ]
  },
  {
   "cell_type": "code",
   "execution_count": 2,
   "metadata": {},
   "outputs": [],
   "source": [
    "def remnpy(filename):\n",
    "\tfor i in range(len(filename)):\n",
    "\t\tif(filename[i:i+4]==\".npy\"):\n",
    "\t\t\treturn filename[:i]\n",
    "\treturn \"\""
   ]
  },
  {
   "cell_type": "code",
   "execution_count": 13,
   "metadata": {},
   "outputs": [],
   "source": [
    "files = os.listdir(\"train\")\n",
    "inp = np.array([])\n",
    "inp = np.reshape(inp, [-1, 784])\n",
    "inp_tag = []\n",
    "inp_dict = {}\n",
    "ite = 0\n",
    "for file in files:\n",
    "    inp = np.concatenate((inp, np.load(\"train/\" + file)), axis = 0)\n",
    "    inp_dict[ite] = remnpy(file)\n",
    "    for i in range(0, 5000):\n",
    "    \tinp_tag.append(ite)\n",
    "    ite += 1\n",
    "inp_tag = np.array(inp_tag)"
   ]
  },
  {
   "cell_type": "code",
   "execution_count": 14,
   "metadata": {},
   "outputs": [],
   "source": [
    "inp = StandardScaler().fit_transform(inp)"
   ]
  },
  {
   "cell_type": "code",
   "execution_count": 15,
   "metadata": {},
   "outputs": [],
   "source": [
    "pca = PCA(n_components=10)\n",
    "inputs_pca = pca.fit_transform(inp)"
   ]
  },
  {
   "cell_type": "code",
   "execution_count": 16,
   "metadata": {},
   "outputs": [
    {
     "name": "stderr",
     "output_type": "stream",
     "text": [
      "c:\\users\\prakhar ganesh\\appdata\\local\\programs\\python\\python36\\lib\\site-packages\\sklearn\\utils\\validation.py:475: DataConversionWarning: Data with input dtype uint8 was converted to float64 by StandardScaler.\n",
      "  warnings.warn(msg, DataConversionWarning)\n"
     ]
    }
   ],
   "source": [
    "test_inp = np.load(\"test/test.npy\")\n",
    "test_inp = StandardScaler().fit_transform(test_inp)\n",
    "outputs_pca = pca.transform(test_inp)"
   ]
  },
  {
   "cell_type": "code",
   "execution_count": 17,
   "metadata": {},
   "outputs": [],
   "source": [
    "svm_model = svm.LinearSVC(C=1)\n",
    "svm_model.fit(inputs_pca, inp_tag)\n",
    "all_outs = svm_model.predict(outputs_pca)"
   ]
  },
  {
   "cell_type": "code",
   "execution_count": 18,
   "metadata": {},
   "outputs": [
    {
     "name": "stdout",
     "output_type": "stream",
     "text": [
      "47950\n",
      "100000\n",
      "0.4795\n"
     ]
    }
   ],
   "source": [
    "myFile = open('pca.csv', 'w', newline='')\n",
    "with myFile:\n",
    "    fieldnames = ['ID', 'CATEGORY']\n",
    "    writer = csv.DictWriter(myFile, fieldnames=fieldnames)\n",
    "    writer.writeheader()\n",
    "    for i, ele in enumerate(all_outs):\n",
    "        writer.writerow({'ID' : str(i), 'CATEGORY' : inp_dict[ele]})\n",
    "\n",
    "inp_acc = svm_model.predict(inputs_pca)\n",
    "\n",
    "count = 0\n",
    "total = 0\n",
    "for ele, real in zip(inp_acc, inp_tag):\n",
    "    if(ele==real):\n",
    "        count += 1\n",
    "    total += 1\n",
    "\n",
    "print(count)\n",
    "print(total)\n",
    "print((count + 0.0)/total)"
   ]
  },
  {
   "cell_type": "code",
   "execution_count": 6,
   "metadata": {},
   "outputs": [],
   "source": [
    "import numpy as np"
   ]
  },
  {
   "cell_type": "code",
   "execution_count": 16,
   "metadata": {},
   "outputs": [],
   "source": [
    "a = np.random.rand(3, 4)"
   ]
  },
  {
   "cell_type": "code",
   "execution_count": 17,
   "metadata": {},
   "outputs": [
    {
     "name": "stdout",
     "output_type": "stream",
     "text": [
      "[[0.2211391  0.65583029 0.08870877 0.20244401]\n",
      " [0.07090061 0.23360283 0.98931129 0.10196051]\n",
      " [0.2306974  0.30078853 0.87030007 0.97697851]]\n",
      "[[[0.2211391  0.65583029]\n",
      "  [0.08870877 0.20244401]]\n",
      "\n",
      " [[0.07090061 0.23360283]\n",
      "  [0.98931129 0.10196051]]\n",
      "\n",
      " [[0.2306974  0.30078853]\n",
      "  [0.87030007 0.97697851]]]\n"
     ]
    }
   ],
   "source": [
    "print(a)\n",
    "a = np.reshape(a, (-1, 2, 2))\n",
    "print(a)"
   ]
  },
  {
   "cell_type": "code",
   "execution_count": null,
   "metadata": {},
   "outputs": [],
   "source": []
  }
 ],
 "metadata": {
  "kernelspec": {
   "display_name": "Python 3",
   "language": "python",
   "name": "python3"
  },
  "language_info": {
   "codemirror_mode": {
    "name": "ipython",
    "version": 3
   },
   "file_extension": ".py",
   "mimetype": "text/x-python",
   "name": "python",
   "nbconvert_exporter": "python",
   "pygments_lexer": "ipython3",
   "version": "3.6.4"
  }
 },
 "nbformat": 4,
 "nbformat_minor": 2
}
