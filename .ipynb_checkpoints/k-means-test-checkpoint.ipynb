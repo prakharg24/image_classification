{
 "cells": [
  {
   "cell_type": "code",
   "execution_count": null,
   "metadata": {},
   "outputs": [],
   "source": [
    "import numpy as np\n",
    "import os\n",
    "from sklearn.cluster import KMeans\n",
    "import csv\n",
    "import pickle"
   ]
  },
  {
   "cell_type": "code",
   "execution_count": null,
   "metadata": {},
   "outputs": [],
   "source": [
    "with open('kmeans_data.pkl', 'rb') as f:\n",
    "    kmeans = pickle.load(f)\n",
    "with open('kmeans_tags.pkl', 'rb') as f:\n",
    "    inp_tag = pickle.load(f)"
   ]
  },
  {
   "cell_type": "code",
   "execution_count": null,
   "metadata": {},
   "outputs": [],
   "source": [
    "tlen = 20\n",
    "max_count = np.zeros([tlen, tlen])\n",
    "\n",
    "for i, ele in enumerate(kmeans.labels_):\n",
    "\tmax_count[ele][inp_tag[i]] += 1\n",
    "\n",
    "wrong = 0\n",
    "total = 0\n",
    "\n",
    "\n",
    "# print(max_count)\n",
    "max_ind = np.argmax(max_count, axis=1)\n",
    "print(max_ind)\n",
    "\n",
    "for i in range(0, tlen):\n",
    "\tfor j in range(0, tlen):\n",
    "\t\tif(j!=max_ind[i]):\n",
    "\t\t\twrong += max_count[i][j]\n",
    "# \t\t\tprint(max_count[i][j])\n",
    "\t\ttotal += max_count[i][j]\n",
    "\n",
    "print((total - wrong + 0.0)/total)"
   ]
  },
  {
   "cell_type": "code",
   "execution_count": null,
   "metadata": {},
   "outputs": [],
   "source": [
    "test_inp = np.load(\"test/test.npy\")\n",
    "new_arr = kmeans.predict(test_inp)\n",
    "ans_arr = []\n",
    "for ele in new_arr:\n",
    "\tans_arr.append(max_ind[ele])"
   ]
  },
  {
   "cell_type": "code",
   "execution_count": null,
   "metadata": {},
   "outputs": [],
   "source": [
    "myFile = open('ans.csv', 'w', newline='')\n",
    "with myFile:\n",
    "    fieldnames = ['ID', 'CATEGORY']\n",
    "    writer = csv.DictWriter(myFile, fieldnames=fieldnames)\n",
    "    writer.writeheader()\n",
    "    for i, ele in enumerate(ans_arr):\n",
    "        writer.writerow({'ID' : str(i), 'CATEGORY' : inp_dict[ele]})"
   ]
  }
 ],
 "metadata": {
  "kernelspec": {
   "display_name": "Python 3",
   "language": "python",
   "name": "python3"
  },
  "language_info": {
   "codemirror_mode": {
    "name": "ipython",
    "version": 3
   },
   "file_extension": ".py",
   "mimetype": "text/x-python",
   "name": "python",
   "nbconvert_exporter": "python",
   "pygments_lexer": "ipython3",
   "version": "3.6.4"
  }
 },
 "nbformat": 4,
 "nbformat_minor": 2
}
