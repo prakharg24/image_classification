{
 "cells": [
  {
   "cell_type": "code",
   "execution_count": 2,
   "metadata": {},
   "outputs": [],
   "source": [
    "import numpy as np\n",
    "import os\n",
    "from sklearn.cluster import KMeans\n",
    "import csv\n",
    "import pickle\n",
    "from sklearn.preprocessing import StandardScaler"
   ]
  },
  {
   "cell_type": "code",
   "execution_count": 4,
   "metadata": {},
   "outputs": [],
   "source": [
    "def remnpy(filename):\n",
    "\tfor i in range(len(filename)):\n",
    "\t\tif(filename[i:i+4]==\".npy\"):\n",
    "\t\t\treturn filename[:i]\n",
    "\treturn \"\""
   ]
  },
  {
   "cell_type": "code",
   "execution_count": 5,
   "metadata": {},
   "outputs": [],
   "source": [
    "files = os.listdir(\"train\")\n",
    "inp = np.array([])\n",
    "inp = np.reshape(inp, [-1, 784])\n",
    "inp_tag = []\n",
    "inp_dict = {}\n",
    "ite = 0\n",
    "for file in files:\n",
    "    inp = np.concatenate((inp, np.load(\"train/\" + file)), axis = 0)\n",
    "    inp_dict[ite] = remnpy(file)\n",
    "    for i in range(0, 5000):\n",
    "    \tinp_tag.append(ite)\n",
    "    ite += 1\n",
    "inp_tag = np.array(inp_tag)"
   ]
  },
  {
   "cell_type": "code",
   "execution_count": null,
   "metadata": {},
   "outputs": [],
   "source": []
  }
 ],
 "metadata": {
  "kernelspec": {
   "display_name": "Python 3",
   "language": "python",
   "name": "python3"
  }
 },
 "nbformat": 4,
 "nbformat_minor": 2
}
